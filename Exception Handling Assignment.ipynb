{
 "cells": [
  {
   "cell_type": "markdown",
   "metadata": {},
   "source": [
    "Problem 1.\n",
    "Write a function to compute 5/0 and use try/except to catch the exceptions.\n",
    "Note: Divident(34) / Divisor(8) = Quotient(4) + Reminder(2)\n"
   ]
  },
  {
   "cell_type": "code",
   "execution_count": 15,
   "metadata": {},
   "outputs": [
    {
     "name": "stdout",
     "output_type": "stream",
     "text": [
      "Enter first number (Divident):3\n",
      "Enter second number (Divisor)::1.5\n",
      "Invalid Input..\n",
      "Please input numbers\n",
      "Enter first number (Divident):1\n",
      "Enter second number (Divisor)::2\n",
      "0.5\n",
      "thank you. \n"
     ]
    }
   ],
   "source": [
    "while True:\n",
    "    try:\n",
    "        a = int(input('Enter first number (Divident):'))\n",
    "        b = int(input('Enter second number (Divisor)::'))\n",
    "        res = a / b\n",
    "        print(res)\n",
    "        #break    \n",
    "    except:\n",
    "        print('Invalid Input..')\n",
    "        print('Please input numbers')\n",
    "        continue\n",
    "    else :\n",
    "        print(\"thank you. \")\n",
    "        break"
   ]
  },
  {
   "cell_type": "markdown",
   "metadata": {},
   "source": [
    "Problem 2.\n",
    "Implement a Python program to generate all sentences where \n",
    "subject is in [\"Americans\", \"Indians\"] and \n",
    "verb is in [\"Play\", \"watch\"] and \n",
    "the object is in [\"Baseball\",\"cricket\"].\n",
    "\n",
    "Hint: Subject,Verb and Object should be declared in the program as shown below.\n",
    "subjects=[\"Americans \",\"Indians\"]\n",
    "verbs=[\"play\",\"watch\"]\n",
    "objects=[\"Baseball\",\"Cricket\"]\n",
    "\n",
    "Output should come as below:\n",
    "Americans play Baseball.\n",
    "Americans play Cricket.\n",
    "Americans watch Baseball.\n",
    "Americans watch Cricket.\n",
    "Indians play Baseball.\n",
    "Indians play Cricket.\n",
    "Indians watch Baseball.\n",
    "Indians watch Cricket."
   ]
  },
  {
   "cell_type": "code",
   "execution_count": 11,
   "metadata": {
    "scrolled": true
   },
   "outputs": [
    {
     "name": "stdout",
     "output_type": "stream",
     "text": [
      "Americans   Play   Baseball\n",
      "Americans   Play   cricket\n",
      "Americans   watch   Baseball\n",
      "Americans   watch   cricket\n",
      "Indians   Play   Baseball\n",
      "Indians   Play   cricket\n",
      "Indians   watch   Baseball\n",
      "Indians   watch   cricket\n"
     ]
    }
   ],
   "source": [
    "subjects = [\"Americans\", \"Indians\"]\n",
    "verbs    = [\"Play\", \"watch\"]\n",
    "objects  = [\"Baseball\",\"cricket\"]\n",
    "\n",
    "for subj in subjects :\n",
    "    for verb in verbs :\n",
    "        for objs in objects :\n",
    "            print(subj, \" \",verb, \" \",objs)\n"
   ]
  }
 ],
 "metadata": {
  "kernelspec": {
   "display_name": "Python 3",
   "language": "python",
   "name": "python3"
  },
  "language_info": {
   "codemirror_mode": {
    "name": "ipython",
    "version": 3
   },
   "file_extension": ".py",
   "mimetype": "text/x-python",
   "name": "python",
   "nbconvert_exporter": "python",
   "pygments_lexer": "ipython3",
   "version": "3.8.5"
  }
 },
 "nbformat": 4,
 "nbformat_minor": 4
}
