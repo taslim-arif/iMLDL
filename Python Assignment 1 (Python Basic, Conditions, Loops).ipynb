{
 "cells": [
  {
   "cell_type": "markdown",
   "metadata": {},
   "source": [
    "Assignment 1.\n",
    "Write a program which will find all such numbers which are divisible by 7 but are not a multiple of 5, between 2000 and 3200 (both included). The numbers obtained should be printed in a comma-separated sequence on a single line.\n"
   ]
  },
  {
   "cell_type": "code",
   "execution_count": null,
   "metadata": {},
   "outputs": [],
   "source": [
    "star_number  =2000\n",
    "end_number   =3200\n",
    "valid_number = []   # Create empty list\n",
    "\n",
    "for i in range(star_number, end_number+1):\n",
    "    if (i%7 == 0) and (i%5 !=0 ):\n",
    "       valid_number.append(i)   \n",
    "print(valid_number)\n"
   ]
  },
  {
   "cell_type": "markdown",
   "metadata": {},
   "source": [
    "Assignment 2. \n",
    "Write a Python program to accept the user's first and last name and then getting them printed in the the reverse order with a space between first name and last name."
   ]
  },
  {
   "cell_type": "code",
   "execution_count": null,
   "metadata": {},
   "outputs": [],
   "source": [
    "first_name = ''\n",
    "last_name = ''\n",
    "while (len(first_name) == 0) :\n",
    " first_name = input(\"Enter your first name:\")\n",
    "while (len(last_name) == 0) :\n",
    " last_name = input(\"Enter your last name:\")\n",
    "print(\"Your name is: \" + last_name + ' ' + first_name)"
   ]
  },
  {
   "cell_type": "markdown",
   "metadata": {},
   "source": [
    "Assignment 3.\n",
    "Write a Python program to find the volume of a sphere with diameter 12 cm.\n",
    "Formula: V=4/3 * π * r^3"
   ]
  },
  {
   "cell_type": "code",
   "execution_count": 7,
   "metadata": {},
   "outputs": [
    {
     "name": "stdout",
     "output_type": "stream",
     "text": [
      "Enter r:r\n",
      "Not a real number!  Enter r:\n",
      "Enter r:89.04\n",
      "2956950.5604627696\n"
     ]
    }
   ],
   "source": [
    "def inputNumber(message):\n",
    "  while True:\n",
    "    try:\n",
    "       userInput = float(input(message))       \n",
    "    except ValueError:\n",
    "       print(\"Not a real number! \", message)\n",
    "       continue\n",
    "    else:\n",
    "       return userInput \n",
    "       break \n",
    "    \n",
    "π = 3.141592653589793\n",
    "r = inputNumber(\"Enter r:\")\n",
    "V = (4/3) * π * r**3\n",
    "print(V)\n",
    " \n",
    "    "
   ]
  }
 ],
 "metadata": {
  "kernelspec": {
   "display_name": "Python 3",
   "language": "python",
   "name": "python3"
  }
 },
 "nbformat": 4,
 "nbformat_minor": 4
}
