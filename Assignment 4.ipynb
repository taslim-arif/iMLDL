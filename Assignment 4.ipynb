{
 "cells": [
  {
   "cell_type": "markdown",
   "metadata": {},
   "source": [
    "Problem 1.1\n",
    "Write a Python Program(with class concepts) to find the area of the triangle using the below\n",
    "formula.\n",
    "area = (s*(s-a)*(s-b)*(s-c)) ** 0.5\n",
    "Function to take the length of the sides of triangle from user should be defined in the parent\n",
    "class and function to calculate the area should be defined in subclass."
   ]
  },
  {
   "cell_type": "code",
   "execution_count": null,
   "metadata": {},
   "outputs": [],
   "source": [
    "class Triangle:\n",
    "\n",
    "    def __init__(self, a=0,b=0,c=0):\n",
    "        self.a = a\n",
    "        self.b = b\n",
    "        self.c = c\n",
    "   \n",
    "    def area(self):\n",
    "        s = (self.a + self.b + self.c)/2\n",
    "        area = (s*(s-self.a)*(s-self.b)*(s-self.c)) ** 0.5\n",
    "        print(\"Area : \", area)\n",
    "        \n",
    "\n",
    "\n",
    "Tr_ABC = Triangle(2, 3, 6)\n",
    "Tr_ABC.area()\n",
    "\n"
   ]
  },
  {
   "cell_type": "markdown",
   "metadata": {},
   "source": [
    "Problem 1.2\n",
    "Write a function filter_long_words() that takes a list of words and an integer n and returns the list of words that are longer than n."
   ]
  },
  {
   "cell_type": "code",
   "execution_count": null,
   "metadata": {},
   "outputs": [],
   "source": [
    "def filter_long_words(words,length):\n",
    "    outputList = []\n",
    "    for word in words:\n",
    "         if len(word) > length: \n",
    "                outputList.append(word)\n",
    "    return(outputList)\n",
    "\n",
    "\n",
    "inputList = input('Enter a Sentence or words separated by space ').split()\n",
    "length = int(input('Enter a digit to filter words longer than that '))\n",
    "print(filter_long_words(inputList,length))"
   ]
  },
  {
   "cell_type": "markdown",
   "metadata": {},
   "source": [
    "2.1 \n",
    "Write a Python program using function concept that maps list of words into a list of integers\n",
    "representing the lengths of the corresponding words.\n",
    "Hint: If a list [ ab,cde,erty] is passed on to the python function output should come as [2,3,4]\n",
    "Here 2,3 and 4 are the lengths of the words in the list."
   ]
  },
  {
   "cell_type": "code",
   "execution_count": null,
   "metadata": {},
   "outputs": [],
   "source": [
    "def length_of_words(words):\n",
    "    wordLengthList = []\n",
    "    for word in words:\n",
    "         wordLengthList.append(len(word))\n",
    "    return(wordLengthList)\n",
    "\n",
    "inputList = input('Enter a Sentence or words separated by space ').split()\n",
    "print(length_of_words(inputList))"
   ]
  },
  {
   "cell_type": "markdown",
   "metadata": {},
   "source": [
    "2.2 \n",
    "Write a Python function which takes a character (i.e. a string of length 1) and returns True if it is a vowel, False otherwise."
   ]
  },
  {
   "cell_type": "code",
   "execution_count": 1,
   "metadata": {},
   "outputs": [
    {
     "name": "stdout",
     "output_type": "stream",
     "text": [
      "Enter a character m\n",
      "False\n"
     ]
    }
   ],
   "source": [
    "def isVowel(letter):\n",
    "    vowelSet = {'a', 'b', 'c','d','e'}\n",
    "    if letter in vowelSet:\n",
    "        return(True)\n",
    "    else:\n",
    "        return(False)\n",
    "\n",
    "inputChar = input('Enter a character ')[0]\n",
    "print(isVowel(inputChar))"
   ]
  }
 ],
 "metadata": {
  "kernelspec": {
   "display_name": "Python 3",
   "language": "python",
   "name": "python3"
  },
  "language_info": {
   "codemirror_mode": {
    "name": "ipython",
    "version": 3
   },
   "file_extension": ".py",
   "mimetype": "text/x-python",
   "name": "python",
   "nbconvert_exporter": "python",
   "pygments_lexer": "ipython3",
   "version": "3.8.5"
  }
 },
 "nbformat": 4,
 "nbformat_minor": 4
}
